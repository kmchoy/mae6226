{
 "cells": [
  {
   "cell_type": "markdown",
   "metadata": {},
   "source": [
    "# Assignment 3 - 2D Multi Element Airfoil\n",
    "\n",
    "### Kyle Choy\n",
    "### MAE 6226"
   ]
  },
  {
   "cell_type": "code",
   "execution_count": 1,
   "metadata": {
    "collapsed": true
   },
   "outputs": [],
   "source": [
    "import os\n",
    "import numpy as np\n",
    "from matplotlib import pyplot as plt\n",
    "from scipy import integrate, linalg\n",
    "%matplotlib inline"
   ]
  },
  {
   "cell_type": "markdown",
   "metadata": {},
   "source": [
    "## William's Test Case\n",
    "\n",
    "Calculate coefficient of pressure on multi-element wing"
   ]
  },
  {
   "cell_type": "code",
   "execution_count": 2,
   "metadata": {
    "collapsed": true
   },
   "outputs": [],
   "source": [
    "class Panel:\n",
    "    def __init__(self,xa,ya,xb,yb):\n",
    "        '''\n",
    "        Initialize Panel\n",
    "        \n",
    "        Set endpoint, calculate center points, set angle wrt x axis of panel \n",
    "        '''\n",
    "        \n",
    "        self.xa,self.ya = xa,ya #panel start\n",
    "        self.xb,self.yb = xb,yb #panel end    \n",
    "        self.xc, self.yc = (xb+xa)/2, (yb+ya)/2\n",
    "        self.length = np.sqrt((xb-xa)**2+(yb-ya)**2)\n",
    "        \n",
    "        if xb - xa <= 0.0:\n",
    "            self.beta = np.arccos((yb-ya)/self.length)\n",
    "        elif xb - xa > 0.0:\n",
    "            self.beta = np.pi + np.arccos(-(yb-ya)/self.length)\n",
    "        \n",
    "        #location of panel\n",
    "        if self.beta <= np.pi:\n",
    "            self.loc = 'upper'  # upper surface\n",
    "        else:\n",
    "            self.loc = 'lower'  # lower surface\n",
    "        \n",
    "        #initialization\n",
    "        self.sigma = 0.0  # source strength\n",
    "        self.vt = 0.0  # tangential velocity\n",
    "        self.cp = 0.0  # pressure coefficient"
   ]
  },
  {
   "cell_type": "code",
   "execution_count": 3,
   "metadata": {
    "collapsed": true
   },
   "outputs": [],
   "source": [
    "def define_panels(x,y):\n",
    "    '''\n",
    "    Discretizes geometry into panels\n",
    "    '''\n",
    "    N = x.size-1 #number of panel is number of points minus 1\n",
    "    \n",
    "    panels = np.empty(N, dtype=object)\n",
    "    \n",
    "    for i in range(N):\n",
    "        panels[i] = Panel(x[i],y[i],x[i+1],y[i+1])\n",
    "    \n",
    "    return panels"
   ]
  },
  {
   "cell_type": "code",
   "execution_count": 4,
   "metadata": {},
   "outputs": [
    {
     "data": {
      "image/png": "[encoded data removed]",
      "text/plain": [
       "<matplotlib.figure.Figure at 0x7f624b71c4e0>"
      ]
     },
     "metadata": {},
     "output_type": "display_data"
    }
   ],
   "source": [
    "#Load multi element airfoil\n",
    "\n",
    "flapfoil_filepath = os.path.join('resources', 'FlapFoil_N=100.csv')\n",
    "with open(flapfoil_filepath, 'r') as infile:\n",
    "    xf, yf = np.loadtxt(infile, dtype=float, delimiter=',',unpack=True)\n",
    "    \n",
    "mainfoil_filepath = os.path.join('resources', 'MainFoil_N=100.csv')\n",
    "with open(mainfoil_filepath, 'r') as infile:\n",
    "    xm, ym = np.loadtxt(infile, dtype=float, delimiter=',',unpack=True) \n",
    "\n",
    "\n",
    "#Joins the two panel arrays\n",
    "panelsMain = define_panels(xm,ym)\n",
    "panelsFlap = define_panels(xf,yf) \n",
    "\n",
    "panels = np.concatenate((panelsMain,panelsFlap))\n",
    "\n",
    "#Lets see how this airfoil looks\n",
    "width = 10\n",
    "plt.figure(figsize=(width,width))\n",
    "plt.title('Multi-element airfoil Panels')\n",
    "plt.plot(xm,ym,xf,yf, color = 'k')\n",
    "plt.scatter([panel.xa for panel in panels], [panel.ya for panel in panels],color='r', s = 10)\n",
    "#plt.scatter([panel.xa for panel in panelsMain], [panel.ya for panel in panelsMain],color='r', s = 10)\n",
    "#plt.scatter([panel.xa for panel in panelsFlap], [panel.ya for panel in panelsFlap],color='r', s = 10)\n",
    "plt.xlabel('x')\n",
    "plt.ylabel('y')\n",
    "plt.grid()\n",
    "plt.axis('scaled', adjustable = 'box')\n",
    "plt.xlim(-0.25,1.5)\n",
    "plt.ylim(-0.4,0.2);"
   ]
  },
  {
   "cell_type": "code",
   "execution_count": 5,
   "metadata": {
    "collapsed": true
   },
   "outputs": [],
   "source": [
    "class Freestream:\n",
    "    def __init__(self,u_inf = 1.0, alpha =0.0):\n",
    "        \n",
    "        self.u_inf = u_inf\n",
    "        self.alpha = np.radians(alpha)"
   ]
  },
  {
   "cell_type": "code",
   "execution_count": 6,
   "metadata": {
    "collapsed": true
   },
   "outputs": [],
   "source": [
    "#freestream conditions\n",
    "u_inf = 1.0\n",
    "alpha = 0.0\n",
    "freestream = Freestream(u_inf,alpha)"
   ]
  },
  {
   "cell_type": "markdown",
   "metadata": {},
   "source": [
    "$$\n",
    "\\begin{align*}\n",
    "V_{t_i} &= V_\\infty \\sin \\left(\\alpha-\\beta_i\\right) \\\\\n",
    "&+ \\sum_{j=1,j\\neq i}^N \\frac{\\sigma_j}{2\\pi} \\int_j \\frac{\\left(x_{c_i}-x_j\\right)\\frac{\\partial x_{c_i}}{\\partial t_i} + \\left(y_{c_i}-y_j\\right)\\frac{\\partial y_{c_i}}{\\partial t_i}}{\\left(x_{c_i}-x_j\\right)^2 + \\left(y_{c_i}-y_j\\right)^2} {\\rm d}s_j \\\\\n",
    "&- \\sum_{j=1,j\\neq i}^N \\frac{\\gamma}{2\\pi} \\int_j \\frac{\\left(x_{c_i}-x_j\\right)\\frac{\\partial y_{c_i}}{\\partial t_i} - \\left(y_{c_i}-y_j\\right)\\frac{\\partial x_{c_i}}{\\partial t_i}}{\\left(x_{c_i}-x_j\\right)^2 + \\left(y_{c_i}-y_j\\right)^2} {\\rm d}s_j \\\\\n",
    "&-\\frac{\\gamma}{2}\n",
    "\\end{align*}\n",
    "$$\n",
    "\n",
    "where $\\frac{\\partial x_{c_i}}{\\partial t_i} = -\\sin \\beta_i$ and $\\frac{\\partial y_{c_i}}{\\partial t_i} = \\cos \\beta_i$."
   ]
  },
  {
   "cell_type": "code",
   "execution_count": 7,
   "metadata": {
    "collapsed": true
   },
   "outputs": [],
   "source": [
    "def integral(x, y, panel, dxdk, dydk):\n",
    "    def integrand(s):\n",
    "        return (((x-(panel.xa-np.sin(panel.beta)*s))*dxdk + (y-(panel.ya+np.cos(panel.beta)*s))*dydk)/\n",
    "                ((x-(panel.xa-np.sin(panel.beta)*s))**2 + (y-(panel.ya+np.cos(panel.beta) * s))**2) )\n",
    "    return integrate.quad(integrand, 0.0, panel.length)[0]\n",
    "\n",
    "#----------------------------------------------------------------------------------------------------------------#\n",
    "\n",
    "def source_contrib(panels):\n",
    "    '''\n",
    "    Build source contribution matrix for normal velocity\n",
    "    '''\n",
    "    \n",
    "    A = np.empty((panels.size,panels.size), dtype= float)\n",
    "    \n",
    "    np.fill_diagonal(A,0.5)\n",
    "    for i,panel_i in enumerate(panels):\n",
    "        for j,panel_j in enumerate(panels):\n",
    "            if i != j:\n",
    "                A[i,j] = 0.5/np.pi*integral(panel_i.xc,panel_i.yc,panel_j,np.cos(panel_i.beta),np.sin(panel_i.beta))\n",
    "    \n",
    "    return A\n",
    "\n",
    "#------------------------------------------------------------------------------------------------------------------#\n",
    "\n",
    "def vortex_contrib(panels):\n",
    "    '''\n",
    "    Build vortex contribution matrix for normal velocity\n",
    "    '''\n",
    "    \n",
    "    A = np.empty((panels.size,panels.size), dtype= float)\n",
    "    \n",
    "    np.fill_diagonal(A,0.0)\n",
    "    for i,panel_i in enumerate(panels):\n",
    "        for j,panel_j in enumerate(panels):\n",
    "            if i != j:\n",
    "                A[i,j] = -0.5/np.pi*integral(panel_i.xc,panel_i.yc,panel_j,np.sin(panel_i.beta),-np.cos(panel_i.beta))\n",
    "    \n",
    "    return A"
   ]
  },
  {
   "cell_type": "markdown",
   "metadata": {},
   "source": [
    "Remember that \n",
    "\n",
    "* the matrix resulting from the contribution of the vortices on the normal velocity, $B^n$, is **exactly** the matrix resulting from the contribution of the sources on the tangential velocity, $A^t$, i.e.\n",
    "\n",
    "$$B^n_{ij}=A^t_{ij} \\quad \\forall (i, j) \\in \\{1, \\cdots, N\\}^2$$\n",
    "\n",
    "* the matrix resulting from the contribution of the vortices on the tangential velocity, $B^t$, is the **opposite** of the matrix resulting from the contribution of the sources on the normal velocity, $A^n$, i.e.\n",
    "\n",
    "$$B^t_{ij}=-A^n_{ij} \\quad \\forall (i, j) \\in \\{1, \\cdots, N\\}^2$$"
   ]
  },
  {
   "cell_type": "code",
   "execution_count": 8,
   "metadata": {
    "collapsed": true
   },
   "outputs": [],
   "source": [
    "A_source = source_contrib(panels)\n",
    "B_vortex = vortex_contrib(panels)"
   ]
  },
  {
   "cell_type": "code",
   "execution_count": 9,
   "metadata": {},
   "outputs": [
    {
     "data": {
      "text/plain": [
       "'\\ndef kutta(A_source,B_vortex):\\n    \\n    b = np.empty((2,A_source.shape[0]+2),dtype=float)\\n    b[:,-2] = -np.sum(A_source[0,:Na]+A_source[-1,:Na])\\n    b[:,-1] = -np.sum(A_source[0,Na:]+A_source[-1,Na:]) #Note: -A^n = B^t\\n    b[0,:-2] = B_vortex[0,:] + B_vortex[Na-1,:] #Note: B^n  = A^t\\n    b[1,:-2] = B_vortex[Na,:] + B_vortex[-1,:]\\n    \\n    return b\\n\\ndef singularity_matrix(A_source,B_vortex):\\n    \\n    A = np.empty((A_source.shape[0]+2, A_source.shape[0]+2), dtype=float)\\n    A[:-2, :-2] = A_source\\n    \\n    \\n    A[:-2,-2] = np.sum(B_vortex[:,:Na], axis=1)\\n    A[:-2,-1] = np.sum(B_vortex[:,Na:], axis=1)\\n    \\n    \\n    #kutta condition\\n    A[-2:,:] = kutta(A_source,B_vortex)\\n   \\n    return A\\n'"
      ]
     },
     "execution_count": 9,
     "metadata": {},
     "output_type": "execute_result"
    }
   ],
   "source": [
    "'''\n",
    "def kutta(A_source,B_vortex):\n",
    "    \n",
    "    b = np.empty((2,A_source.shape[0]+2),dtype=float)\n",
    "    b[:,-2] = -np.sum(A_source[0,:Na]+A_source[-1,:Na])\n",
    "    b[:,-1] = -np.sum(A_source[0,Na:]+A_source[-1,Na:]) #Note: -A^n = B^t\n",
    "    b[0,:-2] = B_vortex[0,:] + B_vortex[Na-1,:] #Note: B^n  = A^t\n",
    "    b[1,:-2] = B_vortex[Na,:] + B_vortex[-1,:]\n",
    "    \n",
    "    return b\n",
    "\n",
    "def singularity_matrix(A_source,B_vortex):\n",
    "    \n",
    "    A = np.empty((A_source.shape[0]+2, A_source.shape[0]+2), dtype=float)\n",
    "    A[:-2, :-2] = A_source\n",
    "    \n",
    "    \n",
    "    A[:-2,-2] = np.sum(B_vortex[:,:Na], axis=1)\n",
    "    A[:-2,-1] = np.sum(B_vortex[:,Na:], axis=1)\n",
    "    \n",
    "    \n",
    "    #kutta condition\n",
    "    A[-2:,:] = kutta(A_source,B_vortex)\n",
    "   \n",
    "    return A\n",
    "'''"
   ]
  },
  {
   "cell_type": "code",
   "execution_count": 10,
   "metadata": {
    "collapsed": true
   },
   "outputs": [],
   "source": [
    "def kutta_condition(A_source, B_vortex,panels):\n",
    "\n",
    "    Na = int(panels.size/2)\n",
    "    b = np.empty((A_source.shape[0],2), dtype=float)\n",
    " \n",
    "    for i, panel in enumerate(panels):\n",
    "        b[i,0]=np.sum(B_vortex[i,:Na])\n",
    "        b[i,1]=np.sum(B_vortex[i,Na:])\n",
    "    \n",
    "    return b\n",
    "\n",
    "#----------------------------------------------------------#\n",
    "\n",
    "def build_singularity_matrix(A_source, B_vortex,panels):\n",
    "    Na = int(panels.size/2)\n",
    "    A = np.empty((A_source.shape[0]+2,A_source.shape[0]+2), dtype=float)\n",
    "    A2 = np.empty((A_source.shape[0],A_source.shape[0]+2),dtype=float)\n",
    "    a = np.empty((A_source.shape[0],2),dtype=float)\n",
    "    \n",
    "    # source contribution matrix\n",
    "    A[:-2, :-2] = A_source\n",
    "    \n",
    "    # Kutta condition array\n",
    "    A[:-2, -2] = kutta_condition(A_source, B_vortex,panels)[:,0]\n",
    "    A[:-2, -1] = kutta_condition(A_source, B_vortex,panels)[:,1]\n",
    "    \n",
    "    for i, panel in enumerate(panels):\n",
    "        a[i,0]= -np.sum(A_source[i,:Na])\n",
    "        a[i,1]=-np.sum(A_source[i,Na:])\n",
    "    \n",
    "    A2[:,:-2]= B_vortex\n",
    "    A2[:,-2]= a[:,0]\n",
    "    A2[:,-1]=a[:,1]\n",
    "    \n",
    "    A3 = np.empty((2,A_source.shape[0]+2),dtype=float)\n",
    "    A3[0,:]=A2[0,:]+A2[Na-1,:]\n",
    "    A3[1,:] = A2[Na,:]+A2[-1,:]\n",
    "    \n",
    "    A[-2:,:]=A3\n",
    "    \n",
    "    return A"
   ]
  },
  {
   "cell_type": "code",
   "execution_count": 11,
   "metadata": {
    "collapsed": true
   },
   "outputs": [],
   "source": [
    "def build_freestream_rhs(panels,freestream):\n",
    "    '''\n",
    "    build rhs of system from freestream contribution\n",
    "    '''\n",
    "    Na = int(panels.size/2)\n",
    "    \n",
    "    b = np.empty(panels.size+2,dtype=float)\n",
    "    \n",
    "    for i,panel in enumerate(panels):\n",
    "        b[i] = -freestream.u_inf * np.cos(freestream.alpha - panel.beta)\n",
    "        \n",
    "    #kutta condition\n",
    "    b[-2] = -freestream.u_inf*(np.sin(freestream.alpha-panels[0].beta)+np.sin(freestream.alpha - panels[Na-1].beta))\n",
    "    b[-1] = -freestream.u_inf*(np.sin(freestream.alpha-panels[Na].beta)+np.sin(freestream.alpha - panels[-1].beta))\n",
    "    \n",
    "    return b"
   ]
  },
  {
   "cell_type": "code",
   "execution_count": 12,
   "metadata": {},
   "outputs": [
    {
     "name": "stdout",
     "output_type": "stream",
     "text": [
      "-0.00174836054324\n"
     ]
    }
   ],
   "source": [
    "#Solve for strengths\n",
    "Na = int(panels.size/2)\n",
    "\n",
    "A = build_singularity_matrix(A_source, B_vortex,panels)\n",
    "b = build_freestream_rhs(panels, freestream)\n",
    "\n",
    "sigmas = np.linalg.solve(A,b)\n",
    "\n",
    "for i , panel in enumerate(panels):\n",
    "    panel.sigma = sigmas[i]\n",
    "\n",
    "gamma = sigmas[-2:]\n",
    "\n",
    "#check accuracy\n",
    "print(sum([panel.sigma*panel.length for panel in panels]))"
   ]
  },
  {
   "cell_type": "code",
   "execution_count": 13,
   "metadata": {
    "collapsed": true
   },
   "outputs": [],
   "source": [
    "def compute_tangential_velocity(panels,freestream,gamma,A_source,B_vortex):\n",
    "    '''\n",
    "    Compute tangential surface velocity\n",
    "    '''\n",
    "    Na = int(panels.size/2)\n",
    "    A = np.empty((panels.size,panels.size+2),dtype=float)\n",
    "    \n",
    "    A[:,:-2] = B_vortex #Note: B^n  = A^t\n",
    "    A[:,-2] = -np.sum(A_source[:,:Na], axis=1)\n",
    "    A[:,-1] = -np.sum(A_source[:,Na:], axis=1)\n",
    "    \n",
    "    b = freestream.u_inf * np.sin([freestream.alpha - panel.beta for panel in panels])\n",
    "    \n",
    "    sigmas = np.append([panel.sigma for panel in panels], gamma)\n",
    "    \n",
    "    vt = np.dot(A,sigmas) + b \n",
    "    \n",
    "    for i,panel in enumerate(panels):\n",
    "        panel.vt = vt[i]"
   ]
  },
  {
   "cell_type": "code",
   "execution_count": 14,
   "metadata": {
    "collapsed": true
   },
   "outputs": [],
   "source": [
    "def compute_cp(panels,freestream):\n",
    "    \n",
    "    for panel in panels:\n",
    "        panel.cp = 1.0 - (panel.vt/freestream.u_inf)**2"
   ]
  },
  {
   "cell_type": "code",
   "execution_count": 15,
   "metadata": {
    "collapsed": true
   },
   "outputs": [],
   "source": [
    "# tangential velocity at each panel center.\n",
    "compute_tangential_velocity(panels, freestream, gamma, A_source, B_vortex)\n",
    "\n",
    "\n",
    "# surface pressure coefficient# surfac \n",
    "compute_cp(panels, freestream)"
   ]
  },
  {
   "cell_type": "code",
   "execution_count": 16,
   "metadata": {},
   "outputs": [
    {
     "data": {
      "image/png": "[encoded data removed]",
      "text/plain": [
       "<matplotlib.figure.Figure at 0x7f624b6dacc0>"
      ]
     },
     "metadata": {},
     "output_type": "display_data"
    }
   ],
   "source": [
    "main = panels[:int(panels.size/2)]\n",
    "flap = panels[int(panels.size/2):]\n",
    "\n",
    "plt.figure(figsize=(10,6))\n",
    "plt.xlabel('x')\n",
    "plt.ylabel('$C_p$')\n",
    "plt.grid()\n",
    "plt.plot([panel.xc for panel in main if panel.loc == 'upper'],[panel.cp for panel in main if panel.loc == 'upper'],\n",
    "            label='upper surface',color='r', linestyle='-', linewidth=1, marker='o', markersize=2)\n",
    "plt.plot([panel.xc for panel in flap if panel.loc == 'upper'],[panel.cp for panel in flap if panel.loc == 'upper'],\n",
    "            color='r', linestyle='-', linewidth=1, marker='o', markersize=2)\n",
    "plt.plot([panel.xc for panel in main if panel.loc == 'lower'],[panel.cp for panel in main if panel.loc == 'lower'],\n",
    "            label='lower surface',color='b', linestyle='-', linewidth=1, marker='o', markersize=2)\n",
    "plt.plot([panel.xc for panel in flap if panel.loc == 'lower'],[panel.cp for panel in flap if panel.loc == 'lower'],\n",
    "            color='b', linestyle='-', linewidth=1, marker='o', markersize=2)\n",
    "plt.legend(loc='best')\n",
    "plt.xlim(-0.1, 1.5)\n",
    "plt.ylim(3.0, -10.0);"
   ]
  },
  {
   "cell_type": "code",
   "execution_count": 17,
   "metadata": {},
   "outputs": [
    {
     "name": "stdout",
     "output_type": "stream",
     "text": [
      "-0.955701172981\n",
      "-0.279918398369\n"
     ]
    }
   ],
   "source": [
    "print(main[2].cp)\n",
    "print(flap[9].cp)"
   ]
  },
  {
   "cell_type": "code",
   "execution_count": 18,
   "metadata": {},
   "outputs": [
    {
     "name": "stdout",
     "output_type": "stream",
     "text": [
      "3.69771447686 0.0107914032459\n"
     ]
    }
   ],
   "source": [
    "lift_100 = 0\n",
    "drag_100 = 0\n",
    "for panel in panels:\n",
    "    lift_100 -= panel.cp*panel.length*np.sin(panel.beta)\n",
    "    drag_100 += panel.cp*panel.length*np.cos(panel.beta)\n",
    "print(lift_100,drag_100)"
   ]
  },
  {
   "cell_type": "markdown",
   "metadata": {
    "collapsed": true
   },
   "source": [
    "### 200 panels"
   ]
  },
  {
   "cell_type": "code",
   "execution_count": 19,
   "metadata": {
    "collapsed": true
   },
   "outputs": [],
   "source": [
    "flapfoil_filepath2 = os.path.join('resources', 'FlapFoil_N=200.csv')\n",
    "with open(flapfoil_filepath2, 'r') as infile:\n",
    "    xf2, yf2 = np.loadtxt(infile, dtype=float, delimiter=',',unpack=True)\n",
    "    \n",
    "mainfoil_filepath2 = os.path.join('resources', 'MainFoil_N=200.csv')\n",
    "with open(mainfoil_filepath2, 'r') as infile:\n",
    "    xm2, ym2 = np.loadtxt(infile, dtype=float, delimiter=',',unpack=True)\n",
    "    \n",
    "panelsMain2 = define_panels(xm2,ym2)\n",
    "panelsFlap2 = define_panels(xf2,yf2)\n",
    "panels2 = np.concatenate((panelsMain2,panelsFlap2))"
   ]
  },
  {
   "cell_type": "code",
   "execution_count": 20,
   "metadata": {
    "collapsed": true
   },
   "outputs": [],
   "source": [
    "def get_lift(panels,freestream):\n",
    "    \n",
    "    A_source = source_contrib(panels)\n",
    "    B_vortex = vortex_contrib(panels)\n",
    "    \n",
    "    A = build_singularity_matrix(A_source,B_vortex,panels)\n",
    "    b = build_freestream_rhs(panels,freestream)\n",
    "    strengths = np.linalg.solve(A,b)\n",
    "    \n",
    "    for i , panel in enumerate(panels):\n",
    "        panel.sigma = strengths[i]\n",
    "    gamma = strengths[-2:]\n",
    "    \n",
    "    compute_tangential_velocity(panels,freestream,gamma,A_source,B_vortex)\n",
    "    compute_cp(panels,freestream)\n",
    "    \n",
    "    lift = 0\n",
    "    drag = 0\n",
    "    \n",
    "    for panel in panels:\n",
    "        lift -= panel.cp*panel.length*np.sin(panel.beta)\n",
    "    \n",
    "    return lift"
   ]
  },
  {
   "cell_type": "code",
   "execution_count": 21,
   "metadata": {},
   "outputs": [
    {
     "data": {
      "text/plain": [
       "3.7184339086812459"
      ]
     },
     "execution_count": 21,
     "metadata": {},
     "output_type": "execute_result"
    }
   ],
   "source": [
    "Na = int(panels2.size/2)\n",
    "lift_200 = get_lift(panels2,freestream)\n",
    "lift_200"
   ]
  },
  {
   "cell_type": "code",
   "execution_count": 22,
   "metadata": {},
   "outputs": [
    {
     "name": "stdout",
     "output_type": "stream",
     "text": [
      "50.6766949023\n"
     ]
    }
   ],
   "source": [
    "lift_theo = 3.7386\n",
    "\n",
    "err100 = abs(lift_theo - lift_100)\n",
    "err200 = abs(lift_theo - lift_200)\n",
    "\n",
    "err_t = (abs(err100-err200)/err100)*100\n",
    "print(err_t)\n"
   ]
  },
  {
   "cell_type": "markdown",
   "metadata": {},
   "source": [
    "## Wenzinger's Test Case"
   ]
  },
  {
   "cell_type": "code",
   "execution_count": 31,
   "metadata": {
    "collapsed": true
   },
   "outputs": [],
   "source": [
    "flapfoil_filepath = os.path.join('resources', 'NACA23012_FlapFoil.csv')\n",
    "with open(flapfoil_filepath, 'r') as infile:\n",
    "    xf, yf = np.loadtxt(infile, dtype=float, delimiter=',',unpack=True)\n",
    "    \n",
    "mainfoil_filepath = os.path.join('resources', 'NACA23012_MainFoil.csv')\n",
    "with open(mainfoil_filepath, 'r') as infile:\n",
    "    xm, ym = np.loadtxt(infile, dtype=float, delimiter=',',unpack=True) \n",
    "\n",
    "#Joins the two panel arrays\n",
    "panelsMain = define_panels(xm,ym)\n",
    "panelsFlap = define_panels(xf,yf) \n"
   ]
  },
  {
   "cell_type": "code",
   "execution_count": 32,
   "metadata": {
    "collapsed": true
   },
   "outputs": [],
   "source": [
    "def flap_pitch(x_h,y_h,theta,xf,yf):\n",
    "    '''\n",
    "    Determine the flap coordinates for flap pitch\n",
    "    '''\n",
    "    \n",
    "    theta = np.radians(theta)\n",
    "    x1, y1 = xf - x_h*np.ones_like(xf), yf - y_h*np.ones_like(yf)\n",
    "    \n",
    "    x = x1*np.cos(theta)+y1*np.sin(theta)+x_h*np.ones_like(xf)\n",
    "    y = x1*(-1)*np.sin(theta)+y1*np.cos(theta)+y_h*np.ones_like(yf)\n",
    "    \n",
    "    return x, y"
   ]
  },
  {
   "cell_type": "code",
   "execution_count": 33,
   "metadata": {},
   "outputs": [
    {
     "data": {
      "image/png": "[encoded data removed]",
      "text/plain": [
       "<matplotlib.figure.Figure at 0x7f6249507ef0>"
      ]
     },
     "metadata": {},
     "output_type": "display_data"
    }
   ],
   "source": [
    "# location of hinge for flap\n",
    "x_h, y_h = 1.03, -0.054\n",
    "\n",
    "#pitched flap\n",
    "pitch = 20\n",
    "xf_pitch20, yf_pitch20 = flap_pitch(x_h,y_h,pitch,xf,yf)\n",
    "panelsFlap20 = define_panels(xf_pitch20,yf_pitch20) \n",
    "\n",
    "panels = np.concatenate((panelsMain,panelsFlap20))\n",
    "\n",
    "plt.figure(figsize=(width,width))\n",
    "plt.scatter(x_h,y_h,color='k')\n",
    "plt.scatter([panel.xa for panel in panels],[panel.ya for panel in panels],s=10)\n",
    "plt.plot([panel.xa for panel in panels],[panel.ya for panel in panels],color='k')\n",
    "plt.axis('scaled', adjustable='box')\n",
    "plt.title('20 Degrees Flap Deflection')\n",
    "plt.xlabel('x')\n",
    "plt.ylabel('y')\n",
    "plt.grid()\n",
    "plt.xlim(-0.25,1.5)\n",
    "plt.ylim(-0.2,0.2);"
   ]
  },
  {
   "cell_type": "code",
   "execution_count": 34,
   "metadata": {
    "collapsed": true
   },
   "outputs": [],
   "source": [
    "#Compute source and vortex contributions\n",
    "A_source = source_contrib(panels)\n",
    "B_vortex = vortex_contrib(panels)"
   ]
  },
  {
   "cell_type": "code",
   "execution_count": 27,
   "metadata": {},
   "outputs": [
    {
     "name": "stdout",
     "output_type": "stream",
     "text": [
      "-10.962894439697266 1.49306035483e-06\n"
     ]
    }
   ],
   "source": [
    "#bisection method\n",
    "Na = int(panels.size/2)\n",
    "#initial guesses\n",
    "alpha_min = -12\n",
    "alpha_max = 0\n",
    "alpha_mid = -6\n",
    "diff = 1.0\n",
    "\n",
    "while diff > 1e-3: #tolerance\n",
    "    freestream = Freestream(u_inf=1.0,alpha=alpha_mid)\n",
    "    lift = get_lift(panels,freestream)\n",
    "    if lift > 0.0: \n",
    "        alpha_max = alpha_mid\n",
    "    else:\n",
    "        alpha_min = alpha_mid\n",
    "        \n",
    "    alpha_mid = (alpha_max + alpha_min)/2\n",
    "    \n",
    "    diff = abs(alpha_max-alpha_min)\n",
    "    \n",
    "print('The AoA which would generate zero lift is' alpha_mid, ',generating a lift of',lift)"
   ]
  },
  {
   "cell_type": "code",
   "execution_count": 36,
   "metadata": {},
   "outputs": [
    {
     "name": "stdout",
     "output_type": "stream",
     "text": [
      "0.0 0.271910644469\n",
      "-10.0 -0.325750491927\n",
      "-5.0 -0.0292849385314\n",
      "-2.5 0.120733957722\n",
      "-3.75 0.0455783940187\n",
      "-4.375 0.00811001236129\n",
      "-4.6875 -0.0105966660811\n",
      "-4.53125 -0.00124562455172\n",
      "-4.453125 0.0034316198606\n",
      "-4.4921875 0.00109285409619\n",
      "-4.51171875 -7.64211232498e-05\n",
      "-4.501953125 0.000508207513394\n",
      "The pitch which would generate zero lift is -4.5068359375 ,generating a lift of 1.49306035483e-06\n"
     ]
    }
   ],
   "source": [
    "freestream = Freestream(u_inf, 0.0) #0 AoA\n",
    "pitch_min = -20\n",
    "pitch_max = 20\n",
    "pitch_mid = (pitch_max+pitch_min)/2\n",
    "diff = 1.0\n",
    "\n",
    "while diff > 1e-2:\n",
    "    #create new panels using assigned pitch\n",
    "    xf_pitch, yf_pitch= flap_pitch(x_h,y_h,pitch_mid,xf,yf)\n",
    "    panelsFlap_pitch = define_panels(xf_pitch,yf_pitch)\n",
    "    panels = np.concatenate((panelsMain, panelsFlap_pitch))\n",
    "    \n",
    "    lift2 = get_lift(panels,freestream)\n",
    "\n",
    "    if lift2 > 0.0: \n",
    "        pitch_max = pitch_mid\n",
    "    else:\n",
    "        pitch_min = pitch_mid\n",
    "    \n",
    "    pitch_mid = (pitch_min + pitch_max)/2\n",
    "    \n",
    "    diff = abs(pitch_max-pitch_min)\n",
    "    \n",
    "print('The pitch which would generate zero lift is', pitch_mid, ',generating a lift of',lift)"
   ]
  },
  {
   "cell_type": "code",
   "execution_count": 37,
   "metadata": {},
   "outputs": [
    {
     "name": "stdout",
     "output_type": "stream",
     "text": [
      "[ 0.82435976  1.12804895  1.43522694  1.74566936]\n"
     ]
    }
   ],
   "source": [
    "freestream = Freestream(u_inf, 4.0) #4 AoA (built in)\n",
    "\n",
    "pitches = np.array([0, 5, 10, 15])\n",
    "lifts = np.empty(pitches.shape[0], dtype=float)\n",
    "\n",
    "for i in range(pitches.shape[0]):\n",
    "    xf_pitch, yf_pitch = flap_pitch(x_h,y_h,pitches[i],xf,yf)\n",
    "    panelsFlap_pitch = define_panels(xf_pitch,yf_pitch)\n",
    "    panels = np.concatenate((panelsMain, panelsFlap_pitch))\n",
    "    lifts[i] = get_lift(panels,freestream)\n",
    "    \n",
    "print(lifts)"
   ]
  },
  {
   "cell_type": "code",
   "execution_count": 39,
   "metadata": {},
   "outputs": [
    {
     "name": "stdout",
     "output_type": "stream",
     "text": [
      "[  0.          14.51411364  24.21240902  31.28091033]\n"
     ]
    }
   ],
   "source": [
    "#calculate percentage slower the plane can fly in level flight\n",
    "vdiff = np.empty(pitches.shape[0], dtype=float)\n",
    "\n",
    "for i in range(pitches.shape[0]):\n",
    "    vdiff[i] = (1 - np.sqrt(lifts[0])/np.sqrt(lifts[i]))*100\n",
    "    \n",
    "print(vdiff)\n"
   ]
  },
  {
   "cell_type": "markdown",
   "metadata": {},
   "source": [
    "Having variable pitch flaps allows the aircraft to fly at slower speeds to sustain lift. This is useful because the aircraft will not need to fly very fast on the runway when taking off, therefore taking off sooner and using less runway. Also, the aircraft can make a more controlled landing, since they can take the approach to the runway slower. I imagine this feature would also be helpful in wasting less fuel in situations where the aircraft would need to taxi."
   ]
  },
  {
   "cell_type": "code",
   "execution_count": null,
   "metadata": {
    "collapsed": true
   },
   "outputs": [],
   "source": []
  }
 ],
 "metadata": {
  "kernelspec": {
   "display_name": "Python 3",
   "language": "python",
   "name": "python3"
  },
  "language_info": {
   "codemirror_mode": {
    "name": "ipython",
    "version": 3
   },
   "file_extension": ".py",
   "mimetype": "text/x-python",
   "name": "python",
   "nbconvert_exporter": "python",
   "pygments_lexer": "ipython3",
   "version": "3.6.2"
  }
 },
 "nbformat": 4,
 "nbformat_minor": 2
}
